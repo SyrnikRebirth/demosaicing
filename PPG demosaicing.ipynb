{
 "cells": [
  {
   "cell_type": "code",
   "execution_count": 1,
   "metadata": {},
   "outputs": [],
   "source": [
    "import numpy as np\n",
    "from PIL import Image\n",
    "import time\n",
    "import matplotlib.pyplot as plt"
   ]
  },
  {
   "cell_type": "code",
   "execution_count": 2,
   "metadata": {},
   "outputs": [],
   "source": [
    "# just in case we normilize our value\n",
    "def fix_color(color):\n",
    "    if 0 < round(color) < 255:\n",
    "        return round(color)\n",
    "    elif round(color) >= 255:\n",
    "        return 255\n",
    "    else:\n",
    "        return 0\n",
    "\n",
    "# it's easier to use flatten pixels because the author uses them in his formulas\n",
    "def get_flatten_pixels_snapshot(i, j, data):\n",
    "    return data[i - 2 : i + 3, \n",
    "                j - 2 : j + 3, :].reshape(25, -1)"
   ]
  },
  {
   "cell_type": "code",
   "execution_count": 3,
   "metadata": {},
   "outputs": [],
   "source": [
    "def _compute_green_color_using_base_color(base_color, g):\n",
    "    delta_N = np.abs(base_color[12] - base_color[2])*2 + np.abs(g[7] - g[17])\n",
    "    delta_E = np.abs(base_color[12] - base_color[14])*2 + np.abs(g[11] - g[13])\n",
    "    delta_W = np.abs(base_color[12] - base_color[10])*2 + np.abs(g[11] - g[13])\n",
    "    delta_S = np.abs(base_color[12] - base_color[22])*2 + np.abs(g[7] - g[17])\n",
    "    \n",
    "    smallest_delta = min([delta_N, delta_E, delta_W, delta_S])\n",
    "\n",
    "    if delta_N == smallest_delta:\n",
    "        return (g[7] * 3 + g[17] + base_color[12] - base_color[2]) / 4\n",
    "    elif delta_E == smallest_delta:\n",
    "        return (g[13] * 3 + g[11] + base_color[12] - base_color[14]) / 4\n",
    "    elif delta_W == smallest_delta:\n",
    "        return (g[11] * 3 + g[13] + base_color[12] - base_color[10]) / 4\n",
    "    else:\n",
    "        return (g[17] * 3 + g[7] + base_color[12] - base_color[22]) / 4\n",
    "\n",
    "def compute_all_green_pixels(image):\n",
    "    # if i is odd that would mean that we are computing row with red and green pixels\n",
    "    # if i is even that would mean that we are computing row with blue and green pixels\n",
    "    for i in range(2, image.shape[0] - 2):\n",
    "        if i % 2 == 0:\n",
    "            j_start = 2\n",
    "        else:\n",
    "            j_start = 3\n",
    "        for j in range(j_start, image.shape[1] - 2, 2):\n",
    "            flatten_snapshot = get_flatten_pixels_snapshot(i, j, image)\n",
    "            \n",
    "            r = flatten_snapshot[:, 0]\n",
    "            g = flatten_snapshot[:, 1]\n",
    "            b = flatten_snapshot[:, 2]\n",
    "            image[i, j, 1] = fix_color(_compute_green_color_using_base_color(r + b, g))"
   ]
  },
  {
   "cell_type": "code",
   "execution_count": 4,
   "metadata": {},
   "outputs": [],
   "source": [
    "def hue_transit(l1, l2, l3, v1, v3):\n",
    "    if l1 < l2 < l3 or l1 > l2 > l3:\n",
    "        return v1 + (v3 - v1) * (l2 - l1) / (l3 - l1)\n",
    "    else:\n",
    "        return (v1 + v3) / 2 + (l2 - (l1 + l3) / 2) / 2\n",
    "\n",
    "def normalize(x):\n",
    "    return max(min(round(x), 255), 0)\n",
    "\n",
    "def stage2_cell_old(col1, col2, g):\n",
    "    return normalize(hue_transit(g[11], g[12], g[13], col1[11], col1[13])), \\\n",
    "           normalize(hue_transit(g[7], g[12], g[17], col2[7], col2[17]))\n",
    "\n",
    "\n",
    "def stage2_cell(col1, col2, g):\n",
    "    return normalize(hue_transit(g[3], g[4], g[5], col1[3], col1[5])), \\\n",
    "           normalize(hue_transit(g[1], g[4], g[7], col2[1], col2[7]))\n",
    "\n",
    "def get_pattern(data, i, j, k):\n",
    "    return data[i - (k // 2):i + (k // 2 + 1), j - (k // 2):j + (k // 2 + 1)].flatten()\n",
    "\n",
    "def stage2(image):\n",
    "    r = image[:, :, 0]\n",
    "    g = image[:, :, 1]\n",
    "    b = image[:, :, 2]\n",
    "    # Left and Right - Red\n",
    "    for i in range(2, r.shape[0] - 2, 2):\n",
    "        for j in range(3, r.shape[1] - 2, 2):\n",
    "            r_pattern = get_pattern(r, i, j, k=5)\n",
    "            g_pattern = get_pattern(g, i, j, k=5)\n",
    "            b_pattern = get_pattern(b, i, j, k=5)\n",
    "            r[i, j], b[i, j] = stage2_cell(r_pattern, b_pattern, g_pattern)\n",
    "\n",
    "    # Left and Right - Blue\n",
    "    for i in range(3, r.shape[0] - 2, 2):\n",
    "        for j in range(2, r.shape[1] - 2, 2):\n",
    "            r_pattern = get_pattern(r, i, j, k=5)\n",
    "            g_pattern = get_pattern(g, i, j, k=5)\n",
    "            b_pattern = get_pattern(b, i, j, k=5)\n",
    "            b[i, j], r[i, j] = stage2_cell(b_pattern, r_pattern, g_pattern)\n",
    "            \n",
    "    return np.dstack((r[2:-2, 2:-2], g[2:-2, 2:-2], b[2:-2, 2:-2]))\n"
   ]
  },
  {
   "cell_type": "code",
   "execution_count": 5,
   "metadata": {},
   "outputs": [],
   "source": [
    "def hue_transit(l1, l2, l3, v1, v3):\n",
    "    if l1 < l2 < l3 or l1 > l2 > l3:\n",
    "        return v1 + (v3 - v1) * (l2 - l1) / (l3 - l1)\n",
    "    else:\n",
    "        return (v1 + v3) / 2 + (l2 - (l1 + l3) / 2) / 2\n",
    "    \n",
    "def compute_red_and_blue_colors_for_green_pixels(image):\n",
    "    for i in range(2, image.shape[0] - 2):\n",
    "        if i % 2 != 0:\n",
    "            j_start = 2\n",
    "        else:\n",
    "            j_start = 3\n",
    "        for j in range(j_start, image.shape[1] - 2, 2):\n",
    "            flatten_snapshot = get_flatten_pixels_snapshot(i, j, image)\n",
    "            \n",
    "            r = flatten_snapshot[:, 0]\n",
    "            g = flatten_snapshot[:, 1]\n",
    "            b = flatten_snapshot[:, 2]\n",
    "            if i % 2 != 0:\n",
    "                image[i, j, 0] = fix_color(hue_transit(g[7], g[12], g[17], r[7], r[17]))\n",
    "                image[i, j, 2] = fix_color(hue_transit(g[11], g[12], g[13], b[11], b[13]))\n",
    "            else:\n",
    "                image[i, j, 0] = fix_color(hue_transit(g[11], g[12], g[13], r[11], r[13]))\n",
    "                image[i, j, 2] = fix_color(hue_transit(g[7], g[12], g[17], b[7], b[17]))"
   ]
  },
  {
   "cell_type": "code",
   "execution_count": 6,
   "metadata": {},
   "outputs": [],
   "source": [
    "def _compute_red_or_blue_color_using_base_and_adjacent_colors(adjacent_color, base_color, g):\n",
    "        delta_NE = np.abs(adjacent_color[8] - adjacent_color[16])  + np.abs(base_color[4] - base_color[12]) + np.abs(base_color[12] - base_color[20]) + np.abs(g[8] - g[12]) + np.abs(g[12] - g[16])\n",
    "        \n",
    "        delta_NW = np.abs(adjacent_color[6] - adjacent_color[18])  + np.abs(base_color[0] - base_color[12]) + np.abs(base_color[12] - base_color[24])  + np.abs(g[6] - g[12]) + np.abs(g[12] - g[18])\n",
    "\n",
    "        if delta_NE < delta_NW:\n",
    "            return hue_transit(g[8], g[12], g[16], adjacent_color[8], adjacent_color[16])\n",
    "        else:\n",
    "            return hue_transit(g[6], g[12], g[18], adjacent_color[6], adjacent_color[18])\n",
    "\n",
    "\n",
    "def compute_red_for_blue_pixel_and_blue_for_red_pixel(image):\n",
    "    for i in range(2, image.shape[0] - 2):\n",
    "        if i % 2 == 0:\n",
    "            j_start = 2\n",
    "        else:\n",
    "            j_start = 3\n",
    "        for j in range(j_start, image.shape[1] - 2, 2):\n",
    "            flatten_snapshot = get_flatten_pixels_snapshot(i, j, image)\n",
    "            \n",
    "            r = flatten_snapshot[:, 0]\n",
    "            g = flatten_snapshot[:, 1]\n",
    "            b = flatten_snapshot[:, 2]\n",
    "            if j_start == 2:\n",
    "                # compute blue color for red pixel\n",
    "                image[i, j, 2] = fix_color(_compute_red_or_blue_color_using_base_and_adjacent_colors(b, r, g))\n",
    "            else:\n",
    "                # compute red color blue red pixel\n",
    "                image[i, j, 0] = fix_color(_compute_red_or_blue_color_using_base_and_adjacent_colors(r, b, g))"
   ]
  },
  {
   "cell_type": "code",
   "execution_count": 7,
   "metadata": {},
   "outputs": [],
   "source": [
    "def ppg_algorithm(input_img):\n",
    "    # make boundaries for image\n",
    "    data = np.zeros((input_img.shape[0] + 4, input_img.shape[1] + 4, 3))\n",
    "    data[2:-2, 2:-2] = input_img\n",
    "    compute_all_green_pixels(data)\n",
    "    compute_red_and_blue_colors_for_green_pixels(data)    \n",
    "    compute_red_for_blue_pixel_and_blue_for_red_pixel(data)\n",
    "    return data[2:-2, 2:-2, :]"
   ]
  },
  {
   "cell_type": "code",
   "execution_count": 8,
   "metadata": {},
   "outputs": [],
   "source": [
    "from cv2 import cvtColor, COLOR_RGB2GRAY\n",
    "\n",
    "def mse(pic1, pic2):\n",
    "    y1 = cvtColor(pic1.astype('uint8'), COLOR_RGB2GRAY)\n",
    "    y2 = cvtColor(pic2.astype('uint8'), COLOR_RGB2GRAY)\n",
    "    return np.mean((y1-y2) ** 2)\n",
    "\n",
    "\n",
    "def psnr(pic1, pic2):\n",
    "    return 10*np.log10(255**2 / mse(pic1, pic2))"
   ]
  },
  {
   "cell_type": "code",
   "execution_count": 13,
   "metadata": {
    "scrolled": false
   },
   "outputs": [
    {
     "name": "stdout",
     "output_type": "stream",
     "text": [
      "Время выполнения: 265.4816164970398\n",
      "Скорость выполнения: 30.667237832642986сек/мегапиксель\n",
      "MSE: 35.25471049046951\n",
      "PSNR: 32.658632082399805\n"
     ]
    }
   ],
   "source": [
    "input_img_name = 'RGB_CFA.bmp'\n",
    "target_img = 'Original.bmp'\n",
    "\n",
    "img = np.asarray(Image.open(input_img_name), dtype=np.float32)\n",
    "target_img = np.asarray(Image.open(target_img), dtype=np.float32)\n",
    "start = time.time()\n",
    "result_img = ppg_algorithm(img)\n",
    "execution_time = time.time() - start\n",
    "\n",
    "print(\"Время выполнения: \" + str(execution_time))\n",
    "print(\"Скорость выполнения: \" + str(execution_time / (result_img.shape[0] * result_img.shape[1]) * 1e6) + str(\"сек/мегапиксель\"))\n",
    "print(\"MSE: \" + str(mse(result_img, target_img)))\n",
    "print(\"PSNR: \" + str(psnr(result_img, target_img)))\n",
    "\n",
    "im = Image.fromarray(result_img.astype(np.uint8))\n",
    "im.save('Result.bmp')"
   ]
  },
  {
   "cell_type": "code",
   "execution_count": null,
   "metadata": {},
   "outputs": [],
   "source": []
  }
 ],
 "metadata": {
  "kernelspec": {
   "display_name": "AbbyyKernel2",
   "language": "python",
   "name": "ex"
  },
  "language_info": {
   "codemirror_mode": {
    "name": "ipython",
    "version": 3
   },
   "file_extension": ".py",
   "mimetype": "text/x-python",
   "name": "python",
   "nbconvert_exporter": "python",
   "pygments_lexer": "ipython3",
   "version": "3.9.1"
  }
 },
 "nbformat": 4,
 "nbformat_minor": 4
}
